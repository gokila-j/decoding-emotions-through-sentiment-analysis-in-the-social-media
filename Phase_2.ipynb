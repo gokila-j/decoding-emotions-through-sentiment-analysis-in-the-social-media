{
  "nbformat": 4,
  "nbformat_minor": 0,
  "metadata": {
    "colab": {
      "provenance": [],
      "authorship_tag": "ABX9TyNJ68Y4Ju8/Qfus7Oyee4oy",
      "include_colab_link": true
    },
    "kernelspec": {
      "name": "python3",
      "display_name": "Python 3"
    },
    "language_info": {
      "name": "python"
    }
  },
  "cells": [
    {
      "cell_type": "markdown",
      "metadata": {
        "id": "view-in-github",
        "colab_type": "text"
      },
      "source": [
        "<a href=\"https://colab.research.google.com/github/gokila-j/decoding-emotions-through-sentiment-analysis-in-the-social-media/blob/main/Phase_2.ipynb\" target=\"_parent\"><img src=\"https://colab.research.google.com/assets/colab-badge.svg\" alt=\"Open In Colab\"/></a>"
      ]
    },
    {
      "cell_type": "code",
      "execution_count": 1,
      "metadata": {
        "colab": {
          "base_uri": "https://localhost:8080/"
        },
        "id": "qFfAd2SlwPZ9",
        "outputId": "3e429c94-dee0-4999-8c1e-e8b4d8727481"
      },
      "outputs": [
        {
          "output_type": "stream",
          "name": "stderr",
          "text": [
            "/usr/local/lib/python3.11/dist-packages/huggingface_hub/utils/_auth.py:94: UserWarning: \n",
            "The secret `HF_TOKEN` does not exist in your Colab secrets.\n",
            "To authenticate with the Hugging Face Hub, create a token in your settings tab (https://huggingface.co/settings/tokens), set it as secret in your Google Colab and restart your session.\n",
            "You will be able to reuse this secret in all of your notebooks.\n",
            "Please note that authentication is recommended but still optional to access public models or datasets.\n",
            "  warnings.warn(\n",
            "Device set to use cpu\n"
          ]
        },
        {
          "output_type": "stream",
          "name": "stdout",
          "text": [
            "Enter a social media message to analyze: I won the match\n",
            "Detected Emotion: joy 😄 (Confidence: 0.98)\n"
          ]
        }
      ],
      "source": [
        "from transformers import pipeline\n",
        "\n",
        "# Emotion-to-emoji mapping\n",
        "emotion_emoji_map = {\n",
        "    \"joy\": \"😄\", \"sadness\": \"😢\", \"anger\": \"😠\", \"fear\": \"😱\", \"disgust\": \"🤢\",\n",
        "    \"surprise\": \"😲\", \"love\": \"❤️\", \"admiration\": \"👏\", \"amusement\": \"😂\",\n",
        "    \"gratitude\": \"🙏\", \"nervousness\": \"😬\", \"optimism\": \"🌟\", \"pride\": \"🏅\",\n",
        "    \"disappointment\": \"😞\", \"relief\": \"😌\", \"caring\": \"🤗\", \"remorse\": \"😔\",\n",
        "    \"confusion\": \"😕\", \"realization\": \"💡\", \"neutral\": \"😐\"\n",
        "}\n",
        "\n",
        "# Load emotion classifier\n",
        "classifier = pipeline(\"text-classification\", model=\"j-hartmann/emotion-english-distilroberta-base\")\n",
        "\n",
        "# User input\n",
        "user_input = input(\"Enter a social media message to analyze: \")\n",
        "\n",
        "# Run classification\n",
        "result = classifier(user_input)[0]  # First result from list\n",
        "\n",
        "# Extract data\n",
        "emotion = result['label']\n",
        "score = result['score']\n",
        "emoji_icon = emotion_emoji_map.get(emotion.lower(), \"❓\")\n",
        "\n",
        "# Output\n",
        "print(f\"Detected Emotion: {emotion} {emoji_icon} (Confidence: {score:.2f})\")"
      ]
    }
  ]
}